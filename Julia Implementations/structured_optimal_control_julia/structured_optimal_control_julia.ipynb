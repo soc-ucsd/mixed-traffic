{
 "cells": [
  {
   "cell_type": "code",
   "execution_count": 1,
   "id": "f9c5c2f0-9f05-4f02-815c-080d70988abe",
   "metadata": {},
   "outputs": [],
   "source": [
    "using NBInclude\n",
    "@nbinclude(\"structured_optimal_control_functions_julia.ipynb\");"
   ]
  },
  {
   "cell_type": "code",
   "execution_count": 2,
   "id": "f9231be5-3c57-49e0-a2af-fde84f74610f",
   "metadata": {},
   "outputs": [],
   "source": [
    "comm_limited = 0 # whether there is communication constraint\n",
    "CR = 5; # communication range if there is communication constraint"
   ]
  },
  {
   "cell_type": "code",
   "execution_count": 3,
   "id": "eac076a3-3dd7-46e1-861f-b4da7a33c950",
   "metadata": {},
   "outputs": [],
   "source": [
    "## Parameters\n",
    "\n",
    "N = 20\n",
    "V_star = 15\n",
    "alpha = 0.6 .+ 0.1 .- 0.2 .* ones(N,1) .* 0.5 #random(N, 1)\n",
    "beta = 0.9 .+ 0.1 .- 0.2 .* ones(N,1) .* 0.5  #random(N, 1)\n",
    "v_max = 30 .* ones(N,1)\n",
    "s_st = 5 .* ones(N,1)\n",
    "s_go = 30 .+ 10 .* ones(N,1) .* 0.5 #random(N, 1)\n",
    "v_star = V_star .* ones(N,1)\n",
    "s_star = acos.(1 .- v_star ./ v_max .* 2) ./ pi .* (s_go .- s_st) .+ s_st\n",
    "\n",
    "AV_number = 1;"
   ]
  },
  {
   "cell_type": "code",
   "execution_count": 4,
   "id": "da2f9ba2-c7d4-43ac-80f1-469160337a4b",
   "metadata": {},
   "outputs": [],
   "source": [
    "# Cost Function Weight\n",
    "gamma_s = 0.03\n",
    "gamma_v = 0.15\n",
    "gamma_u = 1;"
   ]
  },
  {
   "cell_type": "code",
   "execution_count": 5,
   "id": "3808e076-39ce-409a-ba74-520b92e9dcc1",
   "metadata": {},
   "outputs": [
    {
     "name": "stdout",
     "output_type": "stream",
     "text": [
      "Problem\n",
      "  Name                   :                 \n",
      "  Objective sense        : minimize        \n",
      "  Type                   : CONIC (conic optimization problem)\n",
      "  Constraints            : 3201            \n",
      "  Affine conic cons.     : 2 (1681 rows)\n",
      "  Disjunctive cons.      : 0               \n",
      "  Cones                  : 0               \n",
      "  Scalar variables       : 1682            \n",
      "  Matrix variables       : 0               \n",
      "  Integer variables      : 0               \n",
      "\n",
      "Optimizer started.\n",
      "Presolve started.\n",
      "Linear dependency checker started.\n",
      "Linear dependency checker terminated.\n",
      "Eliminator started.\n",
      "Freed constraints in eliminator : 1513\n",
      "Eliminator terminated.\n",
      "Eliminator started.\n",
      "Freed constraints in eliminator : 0\n",
      "Eliminator terminated.\n",
      "Eliminator - tries                  : 2                 time                   : 0.00            \n",
      "Lin. dep.  - tries                  : 1                 time                   : 0.00            \n",
      "Lin. dep.  - primal attempts        : 1                 successes              : 1               \n",
      "Lin. dep.  - dual attempts          : 0                 successes              : 0               \n",
      "Lin. dep.  - primal deps.           : 780               dual deps.             : 0               \n",
      "Presolve terminated. Time: 0.02    \n",
      "GP based matrix reordering started.\n",
      "GP based matrix reordering terminated.\n",
      "Optimizer  - threads                : 8               \n",
      "Optimizer  - solved problem         : the primal      \n",
      "Optimizer  - Constraints            : 2114            \n",
      "Optimizer  - Cones                  : 1               \n",
      "Optimizer  - Scalar variables       : 1295              conic                  : 475             \n",
      "Optimizer  - Semi-definite variables: 2                 scalarized             : 1681            \n",
      "Factor     - setup time             : 0.28            \n",
      "Factor     - dense det. time        : 0.03              GP order time          : 0.11            \n",
      "Factor     - nonzeros before factor : 7.34e+05          after factor           : 1.42e+06        \n",
      "Factor     - dense dim.             : 2                 flops                  : 1.30e+09        \n",
      "ITE PFEAS    DFEAS    GFEAS    PRSTATUS   POBJ              DOBJ              MU       TIME  \n",
      "0   2.0e+00  1.0e+00  1.0e+00  0.00e+00   0.000000000e+00   0.000000000e+00   1.0e+00  0.30  \n",
      "1   1.6e+00  7.8e-01  5.8e-01  1.07e+00   1.134962822e+00   1.015289713e+00   7.8e-01  0.39  \n",
      "2   1.1e+00  5.4e-01  1.7e-01  1.57e+00   1.940268359e+00   1.738739893e+00   5.4e-01  0.47  \n",
      "3   9.8e-01  4.9e-01  1.4e-01  2.88e+00   2.024757257e+00   1.872802576e+00   4.9e-01  0.53  \n",
      "4   6.4e-01  3.2e-01  5.8e-02  2.75e+00   2.316580150e+00   2.261497390e+00   3.2e-01  0.59  \n",
      "5   2.7e-01  1.3e-01  1.1e-02  1.91e+00   2.315535023e+00   2.297913898e+00   1.3e-01  0.67  \n",
      "6   4.0e-02  2.0e-02  5.0e-04  1.64e+00   2.203127274e+00   2.201078756e+00   2.0e-02  0.77  \n",
      "7   1.8e-02  9.2e-03  1.5e-04  1.14e+00   2.156825151e+00   2.155898618e+00   9.2e-03  0.81  \n",
      "8   8.7e-03  4.3e-03  4.6e-05  1.06e+00   2.144482361e+00   2.144040853e+00   4.3e-03  0.88  \n",
      "9   4.3e-03  2.1e-03  1.6e-05  1.00e+00   2.139485587e+00   2.139262709e+00   2.1e-03  0.92  \n",
      "10  5.9e-04  3.0e-04  6.3e-07  9.94e-01   2.135455622e+00   2.135421762e+00   3.0e-04  1.00  \n",
      "11  3.2e-04  1.6e-04  2.5e-07  9.41e-01   2.135426693e+00   2.135408268e+00   1.6e-04  1.05  \n",
      "12  2.0e-05  1.0e-05  2.8e-09  9.69e-01   2.135327079e+00   2.135325798e+00   1.0e-05  1.11  \n",
      "13  1.4e-05  7.0e-06  1.8e-09  9.97e-01   2.135325327e+00   2.135324453e+00   7.0e-06  1.17  \n",
      "14  1.8e-06  8.8e-07  9.7e-11  9.98e-01   2.135318747e+00   2.135318642e+00   8.8e-07  1.25  \n",
      "15  6.9e-07  3.5e-07  2.5e-11  1.00e+00   2.135318326e+00   2.135318285e+00   3.4e-07  1.30  \n",
      "16  6.8e-08  3.4e-08  8.0e-13  1.00e+00   2.135318052e+00   2.135318048e+00   3.4e-08  1.36  \n",
      "Optimizer terminated. Time: 1.36    \n",
      "\n"
     ]
    },
    {
     "data": {
      "text/plain": [
       "1×40 Matrix{Float64}:\n",
       " 0.210899  0.000273145  0.0958609  …  0.000235114  0.000968733  0.733982"
      ]
     },
     "metadata": {},
     "output_type": "display_data"
    }
   ],
   "source": [
    "# Controller design\n",
    "A, B1, B2, Q, R = system_model(N, AV_number, alpha, beta, v_max, s_st, s_go, s_star, gamma_s, gamma_v, gamma_u)\n",
    "\n",
    "if comm_limited > 0\n",
    "    K_Pattern = pattern_generation(N,AV_number,CR)\n",
    "    K, Info = optsi(A, B1, B2, K_Pattern, Q, R)\n",
    "else\n",
    "    K = lqrsdp(A, B1, B2, Q, R)\n",
    "end\n",
    "display(K)"
   ]
  },
  {
   "cell_type": "code",
   "execution_count": 6,
   "id": "82d0f6c5-659e-4483-af92-237e7e814969",
   "metadata": {},
   "outputs": [
    {
     "name": "stdout",
     "output_type": "stream",
     "text": [
      "[0.21089908238292607 0.00027314495839100394 0.09586085443829315 9.47603975317155e-5 0.029476751076193405 -0.000227937901517498 0.004660483518732335 -0.00032396090256041517 0.00036736829051338144 -2.4888427053067696e-5 -0.00029786093687101284 0.0003832765835657492 -0.00028926230248604704 8.983079852211865e-5 -0.00048027413593570463 0.0001300869214628728 0.00038989576022601915 -0.000385011697758226 0.00017210641615970096 -0.00013594344023592074 2.2606986085244807e-5 0.00014367753601585633 0.00036711124657016683 0.0005752824532014449 0.0003304309686667038 -0.00014124652748376978 0.00010156442919362792 -0.0007821494518102795 -1.9440116256907716e-5 -0.0004479731437984333 0.00014538385581411395 0.0002666121269940798 -2.2856298721218988e-5 0.0001725819378356738 1.3617327732470379e-5 5.240985276003375e-6 -0.0008963668212559795 0.00023511426168680945 0.000968732895641667 0.7339817135188914]"
     ]
    }
   ],
   "source": [
    "print(K)"
   ]
  }
 ],
 "metadata": {
  "kernelspec": {
   "display_name": "Julia 1.9.2",
   "language": "julia",
   "name": "julia-1.9"
  },
  "language_info": {
   "file_extension": ".jl",
   "mimetype": "application/julia",
   "name": "julia",
   "version": "1.9.2"
  }
 },
 "nbformat": 4,
 "nbformat_minor": 5
}
