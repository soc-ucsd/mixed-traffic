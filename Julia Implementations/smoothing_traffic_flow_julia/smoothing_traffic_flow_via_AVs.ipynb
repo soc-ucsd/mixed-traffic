{
 "cells": [
  {
   "cell_type": "code",
   "execution_count": 1,
   "id": "1d87dd89-4317-410f-bf4e-352af815d0a2",
   "metadata": {},
   "outputs": [
    {
     "name": "stderr",
     "output_type": "stream",
     "text": [
      "\u001b[32m\u001b[1m   Resolving\u001b[22m\u001b[39m package versions...\n",
      "\u001b[32m\u001b[1m  No Changes\u001b[22m\u001b[39m to `C:\\Users\\hamad\\.julia\\environments\\v1.9\\Project.toml`\n",
      "\u001b[32m\u001b[1m  No Changes\u001b[22m\u001b[39m to `C:\\Users\\hamad\\.julia\\environments\\v1.9\\Manifest.toml`\n"
     ]
    }
   ],
   "source": [
    "using Pkg\n",
    "Pkg.add(\"Infinity\")"
   ]
  },
  {
   "cell_type": "code",
   "execution_count": 2,
   "id": "af8b7a7b-18c0-4d7f-807f-c060b859188c",
   "metadata": {},
   "outputs": [
    {
     "name": "stderr",
     "output_type": "stream",
     "text": [
      "\u001b[32m\u001b[1m   Resolving\u001b[22m\u001b[39m package versions...\n",
      "\u001b[32m\u001b[1m  No Changes\u001b[22m\u001b[39m to `C:\\Users\\hamad\\.julia\\environments\\v1.9\\Project.toml`\n",
      "\u001b[32m\u001b[1m  No Changes\u001b[22m\u001b[39m to `C:\\Users\\hamad\\.julia\\environments\\v1.9\\Manifest.toml`\n"
     ]
    }
   ],
   "source": [
    "Pkg.add(\"Distributions\")"
   ]
  },
  {
   "cell_type": "code",
   "execution_count": 3,
   "id": "e49bf5dd-42b9-4756-b03a-5289f45e9ab4",
   "metadata": {},
   "outputs": [],
   "source": [
    "using Infinity\n",
    "using Random\n",
    "using Distributions"
   ]
  },
  {
   "cell_type": "code",
   "execution_count": 4,
   "id": "88f6d377-dad2-485a-ba6e-96340d1207e7",
   "metadata": {},
   "outputs": [
    {
     "name": "stdout",
     "output_type": "stream",
     "text": [
      "Problem\n",
      "  Name                   :                 \n",
      "  Objective sense        : minimize        \n",
      "  Type                   : CONIC (conic optimization problem)\n",
      "  Constraints            : 2381            \n",
      "  Affine conic cons.     : 3 (2501 rows)\n",
      "  Disjunctive cons.      : 0               \n",
      "  Cones                  : 0               \n",
      "  Scalar variables       : 1682            \n",
      "  Matrix variables       : 0               \n",
      "  Integer variables      : 0               \n",
      "\n",
      "Optimizer started.\n",
      "Presolve started.\n",
      "Linear dependency checker started.\n",
      "Linear dependency checker terminated.\n",
      "Eliminator started.\n",
      "Freed constraints in eliminator : 780\n",
      "Eliminator terminated.\n",
      "Eliminator started.\n",
      "Freed constraints in eliminator : 0\n",
      "Eliminator terminated.\n",
      "Eliminator - tries                  : 2                 time                   : 0.00            \n",
      "Lin. dep.  - tries                  : 1                 time                   : 0.00            \n",
      "Lin. dep.  - primal attempts        : 1                 successes              : 1               \n",
      "Lin. dep.  - dual attempts          : 0                 successes              : 0               \n",
      "Lin. dep.  - primal deps.           : 780               dual deps.             : 0               \n",
      "Presolve terminated. Time: 0.00    \n",
      "GP based matrix reordering started.\n",
      "GP based matrix reordering terminated.\n",
      "Optimizer  - threads                : 8               \n",
      "Optimizer  - solved problem         : the primal      \n",
      "Optimizer  - Constraints            : 2501            \n",
      "Optimizer  - Cones                  : 1               \n",
      "Optimizer  - Scalar variables       : 862               conic                  : 862             \n",
      "Optimizer  - Semi-definite variables: 3                 scalarized             : 2501            \n",
      "Factor     - setup time             : 0.39            \n",
      "Factor     - dense det. time        : 0.03              GP order time          : 0.17            \n",
      "Factor     - nonzeros before factor : 1.06e+06          after factor           : 2.30e+06        \n",
      "Factor     - dense dim.             : 2                 flops                  : 2.56e+09        \n",
      "Factor     - GP saved nzs           : 1.38e+05          GP saved flops         : 3.36e+08        \n",
      "ITE PFEAS    DFEAS    GFEAS    PRSTATUS   POBJ              DOBJ              MU       TIME  \n",
      "0   1.0e+00  1.0e+00  1.0e+00  0.00e+00   0.000000000e+00   0.000000000e+00   1.0e+00  0.42  \n",
      "1   3.2e-01  3.2e-01  3.1e-01  -5.67e-01  3.098483486e+00   3.511275204e+00   3.2e-01  0.55  \n",
      "2   6.8e-02  6.8e-02  2.7e-02  4.85e-01   6.239815156e+00   6.263933183e+00   6.8e-02  0.67  \n",
      "3   1.3e-02  1.3e-02  9.4e-04  1.81e+00   4.772383902e+00   4.763182642e+00   1.3e-02  0.80  \n",
      "4   1.8e-03  1.8e-03  7.2e-05  1.30e+00   4.366319232e+00   4.366215727e+00   1.8e-03  0.92  \n",
      "5   6.4e-06  6.4e-06  1.2e-08  1.02e+00   4.355552390e+00   4.355550254e+00   6.4e-06  1.06  \n",
      "6   4.1e-07  4.1e-07  2.0e-10  1.00e+00   4.355479349e+00   4.355479212e+00   4.1e-07  1.19  \n",
      "7   5.7e-09  5.7e-09  3.8e-13  1.00e+00   4.355475138e+00   4.355475137e+00   5.6e-09  1.30  \n",
      "Optimizer terminated. Time: 1.33    \n",
      "\n"
     ]
    },
    {
     "data": {
      "text/plain": [
       "1×40 Matrix{Float64}:\n",
       " 0.393602  0.121295  0.415541  0.0148384  …  -0.0147696  -0.133025  1.1923"
      ]
     },
     "execution_count": 4,
     "metadata": {},
     "output_type": "execute_result"
    }
   ],
   "source": [
    "using NBInclude\n",
    "@nbinclude(\"smoothing_traffic_flow_functions.ipynb\")\n",
    "\n",
    "#Scenario 1 is sharp braking at 20 seconds\n",
    "#Scenario 2 is random distribution of vehicles and uniform distribution of initial velocity\n",
    "#Scenario 3 is Experiment B of \"Controllability Analysis and Optimal Control of Mixed Traffic Flow with Human-driven and Autonomous Vehicles\"\n",
    "scenario = 3\n",
    "\n",
    "#If spacing_or_velocity == 0 then display spacing graph, if 1 then display velocity graph, if 2 then display position color graph\n",
    "spacing_or_velocity =  2\n",
    "\n",
    "# Mix or not\n",
    "mix = 1\n",
    "\n",
    "# 1.Optimal Control  2.FollowerStopper  3.PI with Saturation\n",
    "controllerType = 1\n",
    "\n",
    "\n",
    "brakeID = 6 - 1\n",
    "# In the simulation, the ID of the AV is 20, and thus the brakeID needs to minus one    \n",
    "\n",
    "#Chose number of Vehicles\n",
    "N = 20\n",
    "\n",
    "#Choose circumference of track (0) or equilibrium spacing of vehicles s_star (1)\n",
    "#If circumference is chosen then you may ignore value of spacing and same for spacing\n",
    "circumference_or_spacing = 0\n",
    "circumference = 400\n",
    "s_star = 20    #19.36 for 14m/s v*   #20.63 for 16m/s v*   #20 for 15m/s v*      #for Experiment 7 from scenario 2 set just s_ctr to these values\n",
    "\n",
    "if circumference_or_spacing > 1\n",
    "    circumference = s_star*N\n",
    "elseif circumference_or_spacing == 0\n",
    "    s_star = circumference/N\n",
    "end\n",
    "\n",
    "\n",
    "if mix == 1 && controllerType == 1\n",
    "    gammaType = 1\n",
    "    if gammaType == 1\n",
    "        gamma_s = 0.03\n",
    "        gamma_v = 0.15\n",
    "        gamma_u = 1\n",
    "    elseif gammaType == 2\n",
    "        gamma_s = 3\n",
    "        gamma_v = 15\n",
    "        gamma_u = 1\n",
    "    end\n",
    "end\n",
    "\n",
    "K = lqr_sdp(N,s_star,gamma_s,gamma_v,gamma_u,1)\n"
   ]
  },
  {
   "cell_type": "code",
   "execution_count": 5,
   "id": "afc2d3bf-f2d4-4410-a702-e3feba49e178",
   "metadata": {},
   "outputs": [
    {
     "name": "stdout",
     "output_type": "stream",
     "text": [
      "[0.39360199761896847 0.12129527856640458 0.41554085229011717 0.014838412052446475 0.3703093934345685 -0.06478398629297365 0.28348296640765613 -0.10974067599982285 0.1821642990930767 -0.1216322539452026 0.08845354517406302 -0.10897776759285345 0.015682026060864395 -0.08330090454984393 -0.032101893712843645 -0.05529435669532932 -0.0580168024697659 -0.032239504681168325 -0.06892225808038045 -0.017192049214554955 -0.07210595841545611 -0.009719286284211748 -0.07308800633740427 -0.007482382421558014 -0.07487087164908711 -0.007848526730189782 -0.07835261807586451 -0.008953137641817828 -0.0832983917035087 -0.010025031547745802 -0.0892748648425229 -0.011118665400023117 -0.09617471553497764 -0.01253340916113156 -0.10420997803803407 -0.014147521355761509 -0.11340341707261364 -0.014769641418359496 -0.13302524557524442 1.192304610662506]\n",
      " \n",
      "(1, 40)"
     ]
    }
   ],
   "source": [
    "print(K, \"\\n \\n\", size(K))"
   ]
  },
  {
   "cell_type": "code",
   "execution_count": 6,
   "id": "1ba9676e-7edb-42a4-86e9-0424335c36a5",
   "metadata": {},
   "outputs": [
    {
     "data": {
      "text/plain": [
       "35"
      ]
     },
     "execution_count": 6,
     "metadata": {},
     "output_type": "execute_result"
    }
   ],
   "source": [
    "alpha_k = 0.6\n",
    "    \n",
    "v_max = 30\n",
    "acel_max = 5\n",
    "dcel_max = -5\n",
    "#Driver Model: OVM\n",
    "alpha = 0.6\n",
    "beta = 0.9\n",
    "s_st = 5\n",
    "s_go = 35"
   ]
  },
  {
   "cell_type": "code",
   "execution_count": 7,
   "id": "7f7c4799-852f-4578-b5e2-8dab88b6ef11",
   "metadata": {},
   "outputs": [
    {
     "data": {
      "text/plain": [
       "Inf"
      ]
     },
     "execution_count": 7,
     "metadata": {},
     "output_type": "execute_result"
    }
   ],
   "source": [
    "if (scenario==1) || (scenario==2)\n",
    "    TotalTime=100\n",
    "elseif (scenario==3)\n",
    "    TotalTime = 700\n",
    "end\n",
    "\n",
    "Tstep = 0.01\n",
    "NumStep = Int(TotalTime/Tstep)\n",
    "\n",
    "if mix > 0\n",
    "    ActuationTime = 0  \n",
    "else\n",
    "    ActuationTime = 9999\n",
    "end\n",
    "\n",
    "ActuationTimeEnd = Inf\n",
    "\n",
    "if (scenario==3)\n",
    "    ActuationTime = 300\n",
    "    ActuationTimeEnd = Inf        #Change to 450 for experiment B of Controllability Analysis\n",
    "end\n",
    "\n"
   ]
  },
  {
   "cell_type": "code",
   "execution_count": 8,
   "id": "3b4119cb-e27b-4bae-80e1-eeb4cd0b3357",
   "metadata": {},
   "outputs": [
    {
     "data": {
      "text/plain": [
       "14.999999999999995"
      ]
     },
     "execution_count": 8,
     "metadata": {},
     "output_type": "execute_result"
    }
   ],
   "source": [
    "v_star  = (v_max/2) * (1-cos(pi * (s_star - s_st)/(s_go - s_st)))\n",
    "s_ctr  = s_star\n",
    "v_ctr  = (v_max/2) * (1-cos(pi * (s_ctr - s_st)/(s_go - s_st)))"
   ]
  },
  {
   "cell_type": "code",
   "execution_count": 9,
   "id": "81589ea8-748c-4333-b6b6-8d9f0ae9ccdd",
   "metadata": {},
   "outputs": [
    {
     "data": {
      "text/plain": [
       "14.999999999999995"
      ]
     },
     "execution_count": 9,
     "metadata": {},
     "output_type": "execute_result"
    }
   ],
   "source": [
    "sd = 5 # Collision avoidance safe distance\n",
    "\n",
    "S = zeros(NumStep,N,3)\n",
    "\n",
    "#Initial state for each vehicle\n",
    "if (scenario == 1) || (scenario==3)\n",
    "    dev_s = 0\n",
    "    dev_v = 0\n",
    "    co_v = 1.0\n",
    "elseif scenario == 2      #Not necessary unless new random numbers needed\n",
    "    dev_s = 7.5\n",
    "    dev_v = 4\n",
    "    co_v = 1.0    \n",
    "end\n",
    "\n",
    "v_ini = co_v * v_star   "
   ]
  },
  {
   "cell_type": "code",
   "execution_count": 10,
   "id": "c639c978-dccf-4e14-971b-146ca71b82b6",
   "metadata": {},
   "outputs": [
    {
     "data": {
      "text/plain": [
       "20-element Vector{Float64}:\n",
       " 14.999999999999995\n",
       " 14.999999999999995\n",
       " 14.999999999999995\n",
       " 14.999999999999995\n",
       " 14.999999999999995\n",
       " 14.999999999999995\n",
       " 14.999999999999995\n",
       " 14.999999999999995\n",
       " 14.999999999999995\n",
       " 14.999999999999995\n",
       " 14.999999999999995\n",
       " 14.999999999999995\n",
       " 14.999999999999995\n",
       " 14.999999999999995\n",
       " 14.999999999999995\n",
       " 14.999999999999995\n",
       " 14.999999999999995\n",
       " 14.999999999999995\n",
       " 14.999999999999995\n",
       " 14.999999999999995"
      ]
     },
     "execution_count": 10,
     "metadata": {},
     "output_type": "execute_result"
    }
   ],
   "source": [
    "Random.seed!(156379)\n",
    "\n",
    "var1 = LinRange(circumference, s_star, N)\n",
    "var2 = randn(N).*2 .*dev_s.-dev_s    \n",
    "S[1, begin:end, 1] = var1 + var2\n",
    "    \n",
    "var1 = v_ini*ones(N)\n",
    "var2 = (randn(N) .*2 .*dev_v .-dev_v)    \n",
    "S[1, begin:end, 2] =  var1 + var2"
   ]
  },
  {
   "cell_type": "code",
   "execution_count": 11,
   "id": "5d91313d-bb74-404a-ad37-f60c12236220",
   "metadata": {},
   "outputs": [
    {
     "data": {
      "text/plain": [
       "40×70000 Matrix{Float64}:\n",
       " 0.0  0.0  0.0  0.0  0.0  0.0  0.0  0.0  …  0.0  0.0  0.0  0.0  0.0  0.0  0.0\n",
       " 0.0  0.0  0.0  0.0  0.0  0.0  0.0  0.0     0.0  0.0  0.0  0.0  0.0  0.0  0.0\n",
       " 0.0  0.0  0.0  0.0  0.0  0.0  0.0  0.0     0.0  0.0  0.0  0.0  0.0  0.0  0.0\n",
       " 0.0  0.0  0.0  0.0  0.0  0.0  0.0  0.0     0.0  0.0  0.0  0.0  0.0  0.0  0.0\n",
       " 0.0  0.0  0.0  0.0  0.0  0.0  0.0  0.0     0.0  0.0  0.0  0.0  0.0  0.0  0.0\n",
       " 0.0  0.0  0.0  0.0  0.0  0.0  0.0  0.0  …  0.0  0.0  0.0  0.0  0.0  0.0  0.0\n",
       " 0.0  0.0  0.0  0.0  0.0  0.0  0.0  0.0     0.0  0.0  0.0  0.0  0.0  0.0  0.0\n",
       " 0.0  0.0  0.0  0.0  0.0  0.0  0.0  0.0     0.0  0.0  0.0  0.0  0.0  0.0  0.0\n",
       " 0.0  0.0  0.0  0.0  0.0  0.0  0.0  0.0     0.0  0.0  0.0  0.0  0.0  0.0  0.0\n",
       " 0.0  0.0  0.0  0.0  0.0  0.0  0.0  0.0     0.0  0.0  0.0  0.0  0.0  0.0  0.0\n",
       " 0.0  0.0  0.0  0.0  0.0  0.0  0.0  0.0  …  0.0  0.0  0.0  0.0  0.0  0.0  0.0\n",
       " 0.0  0.0  0.0  0.0  0.0  0.0  0.0  0.0     0.0  0.0  0.0  0.0  0.0  0.0  0.0\n",
       " 0.0  0.0  0.0  0.0  0.0  0.0  0.0  0.0     0.0  0.0  0.0  0.0  0.0  0.0  0.0\n",
       " ⋮                        ⋮              ⋱            ⋮                   \n",
       " 0.0  0.0  0.0  0.0  0.0  0.0  0.0  0.0     0.0  0.0  0.0  0.0  0.0  0.0  0.0\n",
       " 0.0  0.0  0.0  0.0  0.0  0.0  0.0  0.0     0.0  0.0  0.0  0.0  0.0  0.0  0.0\n",
       " 0.0  0.0  0.0  0.0  0.0  0.0  0.0  0.0  …  0.0  0.0  0.0  0.0  0.0  0.0  0.0\n",
       " 0.0  0.0  0.0  0.0  0.0  0.0  0.0  0.0     0.0  0.0  0.0  0.0  0.0  0.0  0.0\n",
       " 0.0  0.0  0.0  0.0  0.0  0.0  0.0  0.0     0.0  0.0  0.0  0.0  0.0  0.0  0.0\n",
       " 0.0  0.0  0.0  0.0  0.0  0.0  0.0  0.0     0.0  0.0  0.0  0.0  0.0  0.0  0.0\n",
       " 0.0  0.0  0.0  0.0  0.0  0.0  0.0  0.0     0.0  0.0  0.0  0.0  0.0  0.0  0.0\n",
       " 0.0  0.0  0.0  0.0  0.0  0.0  0.0  0.0  …  0.0  0.0  0.0  0.0  0.0  0.0  0.0\n",
       " 0.0  0.0  0.0  0.0  0.0  0.0  0.0  0.0     0.0  0.0  0.0  0.0  0.0  0.0  0.0\n",
       " 0.0  0.0  0.0  0.0  0.0  0.0  0.0  0.0     0.0  0.0  0.0  0.0  0.0  0.0  0.0\n",
       " 0.0  0.0  0.0  0.0  0.0  0.0  0.0  0.0     0.0  0.0  0.0  0.0  0.0  0.0  0.0\n",
       " 0.0  0.0  0.0  0.0  0.0  0.0  0.0  0.0     0.0  0.0  0.0  0.0  0.0  0.0  0.0"
      ]
     },
     "execution_count": 11,
     "metadata": {},
     "output_type": "execute_result"
    }
   ],
   "source": [
    "ID = zeros(N)\n",
    "\n",
    "if mix == 1\n",
    "    ID[end] = 1\n",
    "    X = zeros(2*N, NumStep)\n",
    "end"
   ]
  },
  {
   "cell_type": "code",
   "execution_count": 12,
   "id": "24bf8563-085e-4930-9b18-374fe3a09ba3",
   "metadata": {},
   "outputs": [
    {
     "data": {
      "text/plain": [
       "70000×1 Matrix{Float64}:\n",
       " 0.0\n",
       " 0.0\n",
       " 0.0\n",
       " 0.0\n",
       " 0.0\n",
       " 0.0\n",
       " 0.0\n",
       " 0.0\n",
       " 0.0\n",
       " 0.0\n",
       " 0.0\n",
       " 0.0\n",
       " 0.0\n",
       " ⋮\n",
       " 0.0\n",
       " 0.0\n",
       " 0.0\n",
       " 0.0\n",
       " 0.0\n",
       " 0.0\n",
       " 0.0\n",
       " 0.0\n",
       " 0.0\n",
       " 0.0\n",
       " 0.0\n",
       " 0.0"
      ]
     },
     "execution_count": 12,
     "metadata": {},
     "output_type": "execute_result"
    }
   ],
   "source": [
    "#Velocity difference\n",
    "V_diff = zeros(NumStep,N)\n",
    "\n",
    "#Following Distance\n",
    "D_diff = zeros(NumStep,N)\n",
    "temp = zeros(N)\n",
    "\n",
    "\n",
    "#Average Speed\n",
    "V_avg = zeros(NumStep,1)\n",
    "v_cmd = zeros(NumStep,1)   #For controller's 2 and 3"
   ]
  },
  {
   "cell_type": "code",
   "execution_count": 13,
   "id": "f4dc4a7f-f8a3-4888-a5ad-e5322dd706c9",
   "metadata": {},
   "outputs": [],
   "source": [
    "##Simulation\n",
    "\n",
    "for k = 1:(NumStep-2)\n",
    "    \n",
    "    #Car in front velocity\n",
    "    temp[2:end] = S[k,begin:end-1,2]\n",
    "    temp[1] = S[k,end,2]\n",
    "    V_diff[k,begin:end] = temp.-S[k,begin:end,2]\n",
    "\n",
    "    temp[1]=S[k,end,1].+circumference\n",
    "    temp[2:end] = S[k,begin:end-1,1]\n",
    "\n",
    "    D_diff[k,begin:end] = temp-S[k,begin:end,1]\n",
    "\n",
    "    cal_D = D_diff[k,begin:end]\n",
    "    cal_D[cal_D .>s_go] .= s_go\n",
    "    cal_D[cal_D .<s_st] .= s_st\n",
    "    \n",
    "    #OVM Model\n",
    "    \n",
    "    acel2 = pi.*(cal_D.-s_st)./(s_go-s_st)\n",
    "    acel1 = (1 .- cos.(acel2))\n",
    "    acel3 = zeros(N)\n",
    "    \n",
    "    if scenario==3\n",
    "        d = Normal(0, sqrt(0.5))\n",
    "        acel3 = rand(d, N)#np.random.normal(0,math.sqrt(0.5),N)\n",
    "    end\n",
    "    \n",
    "    acel = alpha.*(v_max./2 .*acel1 .-S[k,begin:end,2]) + beta .*V_diff[k,begin:end] + acel3\n",
    "    acel[acel .>acel_max] .= acel_max\n",
    "    acel[acel .<dcel_max] .= dcel_max\n",
    "\n",
    "    #SD as ADAS to prevent crash\n",
    "    temp[2:end] = S[k,begin:end-1,2]\n",
    "    temp[1] = S[k,end,2]\n",
    "    acel_sd = @. (S[k,begin:end,2]^2-temp^2)/2/(D_diff[k,begin:end]-sd)\n",
    "    acel[acel_sd .>abs(dcel_max)] .= dcel_max\n",
    "    \n",
    "    S[k,begin:end,3] = acel\n",
    "    \n",
    "    \n",
    "    \n",
    "    if ((k-1)*Tstep>20) && ((k-1)*Tstep<23) && (scenario == 1)\n",
    "        S[k,brakeID,3]=-3\n",
    "    end\n",
    "    \n",
    "    if ((k-1)>=(ActuationTime / Tstep)) && ((k-1)< (ActuationTimeEnd / Tstep)) && (mix==1)\n",
    "        if controllerType==1\n",
    "                    X[1:2:39,k] = @. D_diff[k,begin:end]-s_ctr\n",
    "                    X[2:2:40,k] = @. S[k,begin:end,2]-v_ctr\n",
    "                    u = -K*X[begin:end,k]\n",
    "        elseif controllerType==2\n",
    "            dx10 = 9.5\n",
    "            dx20 = 10.75\n",
    "            dx30 = 11\n",
    "\n",
    "            dv_temp = min(S[k,end-1,2]-S[k,end,2],0)\n",
    "\n",
    "            d1 = 1.5\n",
    "            d2 = 1.0\n",
    "            d3 = 0.5\n",
    "            \n",
    "            dx1 = dx10+dv_temp^2/2/d1\n",
    "            dx2 = dx20+dv_temp^2/2/d2\n",
    "            dx3 = dx30+dv_temp^2/2/d3\n",
    "\n",
    "            dx = D_diff[k,N]\n",
    "            v_temp = min(S[k,end-1,2],12)\n",
    "\n",
    "            if dx<=dx1\n",
    "                v_cmd = 0\n",
    "            elseif dx<=dx2                                                        #??????? d2 is greater than d3\n",
    "                v_cmd = v_temp*(dx-dx1)/(dx2-dx1)\n",
    "            elseif dx<=dx3\n",
    "                v_cmd = v_temp+(v_ctr-v_temp)*(dx-dx2)/(dx3-dx2)\n",
    "            else\n",
    "                v_cmd = v_ctr\n",
    "            end\n",
    "\n",
    "            u = alpha_k*(v_cmd.-S[k,end,2])\n",
    "\n",
    "        elseif controllerType==3\n",
    "            gl = 7\n",
    "            gu = 30\n",
    "            v_catch = 1\n",
    "            gamma_temp = 2\n",
    "\n",
    "\n",
    "            if (k-1)-38/Tstep<=ActuationTime/Tstep\n",
    "                v_hisAvg = mean(S[Int(ActuationTime/Tstep):k,end,2])\n",
    "            else\n",
    "                v_hisAvg = mean(S[Int(((k-1)-38/Tstep)-ActuationTime/Tstep):k,end,2])\n",
    "            end\n",
    "\n",
    "            v_target = v_hisAvg + v_catch*min(max((D_diff[k,end]-gl)/(gu-gl),0),1)\n",
    "            alpha_temp = min(max((D_diff[k,-1]-max(2*V_diff[k,end],4))/gamma_temp, 0),1)\n",
    "            beta_temp = 1-0.5*alpha_temp\n",
    "            v_cmd[k+1] = beta_temp*(alpha_temp*v_target+(1-alpha_temp)*S[k,end-1,2])+(1-beta_temp)*v_cmd[k]\n",
    "            u = alpha_k*(v_cmd[k+1]-S[k,end,2])\n",
    "        end\n",
    "        \n",
    "        if u[1]>acel_max\n",
    "            u.=acel_max\n",
    "        elseif u[1]<dcel_max\n",
    "            u.=dcel_max\n",
    "        end\n",
    "\n",
    "        if ( ( (S[k,end,2]^2-S[k,end-1,2]^2) /2 ) / (S[k,end-1,1]-S[k,end,1]-sd) )>abs(dcel_max)\n",
    "            u=dcel_max\n",
    "        end\n",
    "        # print(S[k,-1,1]**2-S[k,-2,1]**2)\n",
    "        # print((S[k,-2,0]-S[k,-1,0]-sd))\n",
    "        # print( ( (S[k,-1,1]**2-S[k,-2,1]**2) /2 ) / (S[k,-2,0]-S[k,-1,0]-sd) )            \n",
    "        # print(S[k,-2,0])\n",
    "        # print(S[k,-1,0])\n",
    "        # print(u)\n",
    "        S[k,end,3] = u[1]\n",
    "    end\n",
    "        S[k+1,begin:end,2] = S[k,begin:end,2] + Tstep*S[k,begin:end,3]\n",
    "        S[k+1,begin:end,1] = S[k,begin:end,1] + Tstep*S[k,begin:end,2]\n",
    "        \n",
    "end # end of simulation"
   ]
  },
  {
   "cell_type": "code",
   "execution_count": 14,
   "id": "82c0bf9d-5e3c-4790-8d9c-68d092d69d4d",
   "metadata": {},
   "outputs": [
    {
     "name": "stdout",
     "output_type": "stream",
     "text": [
      "Settling Time within 3% is354.81s \n",
      "Maximum Spacing in front of AV is 81.6315512934425 \n",
      "Average settled velocity is 14.9992672784541062 m/s"
     ]
    }
   ],
   "source": [
    "for k = 1:NumStep\n",
    "    V_avg[k] = mean(S[k,begin:end,2])\n",
    "end\n",
    "    \n",
    "   \n",
    "#Settling Time\n",
    "final_velocity = V_avg[NumStep-1]\n",
    "above_2_percent = final_velocity*1.03\n",
    "below_2_percent = final_velocity*0.97\n",
    "\n",
    "settling_time = 0\n",
    "for k = NumStep-1:-1:1\n",
    "    for j = 1:N\n",
    "        if (S[k,j,2] > above_2_percent) || (S[k,j,2] < below_2_percent)\n",
    "            settling_time = k/100\n",
    "            break\n",
    "        end\n",
    "    end\n",
    "    if (settling_time != 0)\n",
    "        break\n",
    "    end\n",
    "end\n",
    "    \n",
    "print(\"Settling Time within 3% is\",settling_time, \"s \\n\")\n",
    "\n",
    "\n",
    "\n",
    "#Maximum Spacing in fron of AV\n",
    "max_space = 0\n",
    "for k = 1:NumStep\n",
    "    curr_space = S[k,end-1,1]-S[k,end,1]\n",
    "    if ( curr_space > max_space)\n",
    "        max_space = curr_space\n",
    "    end\n",
    "end\n",
    "print(\"Maximum Spacing in front of AV is \", max_space, \" \\n\")\n",
    "\n",
    "#Average settled velocity\n",
    "print(\"Average settled velocity is \", mean(S[(Int((0.9*TotalTime)/Tstep)):end,begin:end,2]),2, \" m/s\")\n"
   ]
  },
  {
   "cell_type": "code",
   "execution_count": 15,
   "id": "265107c7-ccca-4bb2-8ec9-c3f6dfdb74fc",
   "metadata": {},
   "outputs": [
    {
     "name": "stdout",
     "output_type": "stream",
     "text": [
      "(70000, 20)"
     ]
    },
    {
     "data": {
      "image/png": "[encoded data removed]",
      "text/plain": [
       "Figure(PyObject <Figure size 640x480 with 1 Axes>)"
      ]
     },
     "metadata": {},
     "output_type": "display_data"
    },
    {
     "data": {
      "text/plain": [
       "PyObject Text(0.5, 1.0, 'Velocity')"
      ]
     },
     "execution_count": 15,
     "metadata": {},
     "output_type": "execute_result"
    }
   ],
   "source": [
    "using PyPlot\n",
    "print(size(S[:,:,2]))\n",
    "xAxis = LinRange(0, 100, NumStep)\n",
    "plot(xAxis,S[:,:,2],linewidth=0.75)\n",
    "title(\"Velocity\")"
   ]
  },
  {
   "cell_type": "code",
   "execution_count": 22,
   "id": "13bd5f98-0cd2-4239-a1b7-3f7c0b6e89cf",
   "metadata": {},
   "outputs": [
    {
     "name": "stdout",
     "output_type": "stream",
     "text": [
      "[[(1.0, 0.0), (2.0, 0.14999999999997726)]]Vector{Vector{Tuple{Float64, Float64}}}"
     ]
    },
    {
     "data": {
      "text/plain": [
       "Figure(PyObject <Figure size 640x480 with 1 Axes>)"
      ]
     },
     "metadata": {},
     "output_type": "display_data"
    }
   ],
   "source": [
    "using PyCall\n",
    "pygui(:qt5)\n",
    "using PyPlot\n",
    "\n",
    "#Display Data:\n",
    "fig = figure()\n",
    "x = 1:NumStep\n",
    "yticks = LinRange(0,NumStep,5)\n",
    "yticklabels = LinRange(0,TotalTime,5)\n",
    "\n",
    "# syntax for 3-D projection\n",
    "\n",
    "if spacing_or_velocity == 0\n",
    "    ax = PyPlot.axes(projection = \"3d\")\n",
    "    for i = 1:N\n",
    "        z = ones(Numstep-1)*i\n",
    "\n",
    "        if ID[i] == 1\n",
    "            ax.plot3D(z, x[begin:end-1], S[begin:end-1,i - 1, 1] - S[begin:end-1, i, 1],  \"red\", linewidth = 0.5)\n",
    "            continue\n",
    "        end\n",
    "        \n",
    "        if i == 1\n",
    "            ax.plot3D(z, x[begin:end-1], S[begin:end-1,i-1,1] - S[begin:end-1,i,1] + Circumference, \"blue\", linewidth=0.5)\n",
    "            continue\n",
    "        end\n",
    "\n",
    "        ax.plot3D(z, x[begin:end-1], S[begin:end-1,i-1,1] - S[begin:end-1,i,1], \"blue\", linewidth=0.5)\n",
    "            \n",
    "    end\n",
    "    \n",
    "    ax.set_yticks(yticks)\n",
    "    ax.set_yticklabels(yticklabels)\n",
    "    ax.set_xlabel(\"Vehicle ID\")\n",
    "    ax.set_ylabel(\"Time\")\n",
    "    ax.set_zlabel(\"Spacing from vehicle ahead\")\n",
    "    PlotTitle = join([\"N=\", string(N), \", mix=\", string(mix) ])\n",
    "    ax.set_title(PlotTitle)\n",
    "    show()\n",
    "end\n",
    "\n",
    "if spacing_or_velocity == 1\n",
    "    ax = PyPlot.axes(projection = \"3d\")\n",
    "    for i = 1:N\n",
    "        z = ones(NumStep-1)*i\n",
    "\n",
    "        # if i==N-1 and mix==1:\n",
    "        if ID[i] == 1\n",
    "            ax.plot3D(z, x[begin:end-1], S[begin:end-1,i,2], \"red\", linewidth=0.5)\n",
    "            continue\n",
    "        end\n",
    "        \n",
    "        ax.plot3D(z, x[begin:end-1], S[begin:end-1,i,2], \"blue\", linewidth=0.5)\n",
    "\n",
    "    end\n",
    "    ax.set_yticks(yticks)\n",
    "    ax.set_yticklabels(yticklabels)\n",
    "    ax.set_xlabel(\"Vehicle ID\")\n",
    "    ax.set_ylabel(\"Time\")\n",
    "    ax.set_zlabel(\"Vehicle Velocity\")\n",
    "    PlotTitle = join([\"N=\", string(N), \", mix=\", string(mix) ]) # \"N=\"# + str(N) + \", mix=\" + str(mix) \n",
    "    ax.set_title(PlotTitle)\n",
    "    show()\n",
    "end\n",
    "\n",
    "if spacing_or_velocity == 2\n",
    "    #using PyCall\n",
    "    #plt = pyimport(\"matplotlib\")\n",
    "    for i = 1:N\n",
    "        y = S[begin:end,i,1] .%circumference\n",
    "        y[y.>399] .= NaN\n",
    "\n",
    "        z = S[begin:end,i,2]\n",
    "        points = reshape([x; y]',(:,1,2))\n",
    "        segments = cat([points[begin:end-1,:,:],points[2:end,:,:]],dims=2)\n",
    "        \n",
    "        if i == 1 \n",
    "            print([[(points[1,1,1],points[1,1,2]),(points[2,1,1],points[2,1,2])]])\n",
    "            print(typeof([[(points[1,1,1],points[1,1,2]),(points[2,1,1],points[2,1,2])]]))\n",
    "            #print(segments[:,1,1])\n",
    "        end\n",
    "\n",
    "        #for j = 1:3#NumStep-1\n",
    "            lc = matplotlib.collections.LineCollection([[(points[j,1,1],points[j,1,2]),(points[j+1,1,1],points[j+1,1,2])]] , array=z[1], cmap=matplotlib.colors.LinearSegmentedColormap.from_list(\"rg\",[\"black\",\"r\", \"orange\", \"y\", \"limegreen\"], N=256), norm=matplotlib.colors.Normalize(0,25),  linewidth=0.5)#, alpha=alpha)\n",
    "            ax = plt.gca()\n",
    "            ax.add_collection(lc)\n",
    "        #end\n",
    "    end\n",
    "    \n",
    "\n",
    "    plt.xlim(20000, 60000)\n",
    "    plt.ylim(0,400)\n",
    "    plt.show()\n",
    "end"
   ]
  }
 ],
 "metadata": {
  "kernelspec": {
   "display_name": "Julia 1.9.2",
   "language": "julia",
   "name": "julia-1.9"
  },
  "language_info": {
   "file_extension": ".jl",
   "mimetype": "application/julia",
   "name": "julia",
   "version": "1.9.2"
  }
 },
 "nbformat": 4,
 "nbformat_minor": 5
}
