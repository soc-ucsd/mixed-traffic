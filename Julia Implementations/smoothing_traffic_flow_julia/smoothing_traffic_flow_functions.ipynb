{
 "cells": [
  {
   "cell_type": "code",
   "execution_count": 1,
   "id": "e2c51890-17b7-4eef-b566-ad94bae43aab",
   "metadata": {},
   "outputs": [],
   "source": [
    "#Libraries used\n",
    "using Convex\n",
    "using LinearAlgebra\n",
    "using MosekTools\n",
    "using LinearAlgebra"
   ]
  },
  {
   "cell_type": "code",
   "execution_count": 2,
   "id": "e86a20e5-6da6-4aff-87be-a9c24dab9e2e",
   "metadata": {},
   "outputs": [
    {
     "data": {
      "text/plain": [
       "ring_traffic_model (generic function with 1 method)"
      ]
     },
     "execution_count": 2,
     "metadata": {},
     "output_type": "execute_result"
    }
   ],
   "source": [
    "function ring_traffic_model(N,s_star,gamma_s,gamma_v,gamma_u,AV_number)\n",
    "    # Generate a dynamic model for \n",
    "    #OVM\n",
    "\n",
    "    OVM = 1\n",
    "\n",
    "    alpha  = 0.6\n",
    "    beta   = 0.9\n",
    "    v_max  = 30\n",
    "    s_st   = 5\n",
    "    s_go   = 35\n",
    "\n",
    "\n",
    "    # General\n",
    "    if OVM == 1\n",
    "        alpha1 = alpha*v_max/2*pi/(s_go-s_st)*sin(pi*(s_star-s_st)/(s_go-s_st))\n",
    "        alpha2 = alpha+beta\n",
    "        alpha3 = beta\n",
    "    else\n",
    "        alpha1 = 2.6\n",
    "        alpha2 = 3\n",
    "        alpha3 = 2\n",
    "    end\n",
    "\n",
    "    A1 = [0 -1; alpha1 -alpha2] #np.array([[0,-1], [alpha1,-alpha2]])\n",
    "    A2 = [0 1;0 alpha3] #np.array([[0,1], [0,alpha3]])\n",
    "    C1 = [0 -1;0 0] #np.array([[0,-1], [0,0]])\n",
    "    C2 = [0 1; 0 0] #np.array([[0,1], [0,0]])\n",
    "\n",
    "    pos1 = 1\n",
    "    pos2 = N\n",
    "\n",
    "    A = zeros(2*N,2*N) #np.zeros((2*N,2*N)) \n",
    "\n",
    "    for i = 1: N-1\n",
    "        A[(2*i - 1):(2*i), (2*pos1 - 1):(2*pos1)] = A1\n",
    "        A[(2*i - 1):(2*i), (2*pos2 - 1):(2*pos2)] = A2\n",
    "        \n",
    "        pos1 = pos1+1\n",
    "        pos2 = (pos2+1) % (N)\n",
    "    end\n",
    "\n",
    "    A[(2*N-1):(2*N), (2*pos1 - 1):(2*pos1)] = C1\n",
    "    A[(2*N-1):(2*N), (2*pos2 - 1):(2*pos2)] = C2\n",
    "\n",
    "    #Controller\n",
    "\n",
    "    Q = zeros(2*N, 2*N) \n",
    "\n",
    "    for i = 1:N\n",
    "        Q[2*i - 1,2*i - 1] = gamma_s\n",
    "        Q[2*i,2*i] = gamma_v\n",
    "    end\n",
    "\n",
    "    B = zeros(2*N,AV_number)\n",
    "\n",
    "    B[2*N,1] = 1\n",
    "    if AV_number == 2\n",
    "        AV2_Index = floor(N/2);\n",
    "        A[(2*AV2_Index-1):(2*AV2_Index), (2*AV2_Index-1):(2*AV2_Index)] = C1\n",
    "        A[(2*AV2_Index-1):(2*AV2_Index), (2*AV2_Index-3):(2*AV2_Index-2)] = C2\n",
    "        B[2*AV2_Index,2] = 1\n",
    "    end\n",
    "\n",
    "    R = gamma_u*I(AV_number)\n",
    "        \n",
    "    return A, B, Q, R\n",
    "end"
   ]
  },
  {
   "cell_type": "code",
   "execution_count": 3,
   "id": "5df2baa3-4f2f-4f8f-aadb-3216ca4c5e31",
   "metadata": {},
   "outputs": [
    {
     "data": {
      "text/plain": [
       "lqr_sdp (generic function with 1 method)"
      ]
     },
     "execution_count": 3,
     "metadata": {},
     "output_type": "execute_result"
    }
   ],
   "source": [
    "function lqr_sdp(N,s_star,gamma_s,gamma_v,gamma_u,AV_number)\n",
    "    \n",
    "    A, B, Q, R = ring_traffic_model(N,s_star,gamma_s,gamma_v,gamma_u,AV_number)\n",
    "\n",
    "    n = 2*N\n",
    "    m = AV_number\n",
    "    \n",
    "    epsilon = 1e-5\n",
    "    \n",
    "    H = I(n)\n",
    "    \n",
    "    for i = 1:N\n",
    "        H[2*i - 1,2*i - 1] = 0\n",
    "    end\n",
    "\n",
    "    W = Semidefinite(m+n,m+n)\n",
    "    \n",
    "    problem = minimize(tr(Q*W[m+1:end,m+1:end]) + tr(R*W[begin:m,begin:m]))\n",
    "    problem.constraints += [(A*W[m+1:end,m+1:end] - B*W[begin:m,m+1:end]) + transpose(A*W[m+1:end,m+1:end] - B*W[begin:m,m+1:end]) + transpose(H*H) ⪯ 0]\n",
    "    problem.constraints += [ W[m+1:end,m+1:end] - epsilon*I(n) in :SDP]\n",
    "    problem.constraints += [W in :SDP]\n",
    "\n",
    "    solve!(problem, Mosek.Optimizer #=MosekSolver(verbose = true)=#)\n",
    "    problem.status\n",
    "    problem.optval\n",
    "    \n",
    "    W_eval = W.value\n",
    "    Xd = W_eval[m+1:end,m+1:end]\n",
    "    Zd = W_eval[begin:m,m+1:end]\n",
    "\n",
    "    K = Zd*inv(Xd)\n",
    "\n",
    "    return K\n",
    "end"
   ]
  }
 ],
 "metadata": {
  "kernelspec": {
   "display_name": "Julia 1.9.2",
   "language": "julia",
   "name": "julia-1.9"
  },
  "language_info": {
   "file_extension": ".jl",
   "mimetype": "application/julia",
   "name": "julia",
   "version": "1.9.2"
  }
 },
 "nbformat": 4,
 "nbformat_minor": 5
}
